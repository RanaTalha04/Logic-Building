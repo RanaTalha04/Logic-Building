{
 "cells": [
  {
   "cell_type": "markdown",
   "id": "8bf15748",
   "metadata": {},
   "source": [
    "#### Task 1: \n",
    "Write a short Python function, is multiple(n, m), that takes two integer\n",
    "values and returns True if n is a multiple of m, that is, n = mi for some\n",
    "integer i, and False otherwise."
   ]
  },
  {
   "cell_type": "code",
   "execution_count": 1,
   "id": "0d62d906",
   "metadata": {},
   "outputs": [
    {
     "data": {
      "text/plain": [
       "True"
      ]
     },
     "execution_count": 1,
     "metadata": {},
     "output_type": "execute_result"
    }
   ],
   "source": [
    "def is_multiple(n, m):\n",
    "    if n % m == 0:\n",
    "        return True\n",
    "    else: \n",
    "        return False\n",
    "\n",
    "\n",
    "is_multiple(10, 5)"
   ]
  },
  {
   "cell_type": "markdown",
   "id": "48b1a5be",
   "metadata": {},
   "source": [
    "#### Task 2: \n",
    "Write a short Python function, is even(k), that takes an integer value and\n",
    "returns True if k is even, and False otherwise. However, your function\n",
    "cannot use the multiplication, modulo, or division operators."
   ]
  },
  {
   "cell_type": "code",
   "execution_count": 3,
   "id": "0d6463f7",
   "metadata": {},
   "outputs": [
    {
     "data": {
      "text/plain": [
       "True"
      ]
     },
     "execution_count": 3,
     "metadata": {},
     "output_type": "execute_result"
    }
   ],
   "source": [
    "def is_even(k):\n",
    "    if k & 1 == 0:\n",
    "        return True\n",
    "    else:\n",
    "        return False\n",
    "\n",
    "is_even(4)"
   ]
  },
  {
   "cell_type": "markdown",
   "id": "83ba2812",
   "metadata": {},
   "source": [
    "#### Task 3:\n",
    "Write a short Python function, minmax(data), that takes a sequence of\n",
    "one or more numbers, and returns the smallest and largest numbers, in the\n",
    "form of a tuple of length two. Do not use the built-in functions min or\n",
    "max in implementing your solution"
   ]
  },
  {
   "cell_type": "code",
   "execution_count": 8,
   "id": "01788a97",
   "metadata": {},
   "outputs": [
    {
     "data": {
      "text/plain": [
       "(-1, 7)"
      ]
     },
     "execution_count": 8,
     "metadata": {},
     "output_type": "execute_result"
    }
   ],
   "source": [
    "def minmax(data):\n",
    "    \n",
    "    max_data = data[0]\n",
    "    min_data = data[0]\n",
    "\n",
    "    for value in data:\n",
    "        if value < min_data:\n",
    "            min_data = value\n",
    "        elif value > max_data:\n",
    "            max_data = value\n",
    "\n",
    "    return (min_data, max_data)\n",
    "\n",
    "minmax([3, -1, 0, 7, 5])"
   ]
  },
  {
   "cell_type": "markdown",
   "id": "391ce6c6",
   "metadata": {},
   "source": [
    "#### Task 4:\n",
    "Write a short Python function that takes a positive integer n and returns\n",
    "the sum of the squares of all the positive integers smaller than n."
   ]
  },
  {
   "cell_type": "code",
   "execution_count": 10,
   "id": "e95b4a19",
   "metadata": {},
   "outputs": [
    {
     "data": {
      "text/plain": [
       "30"
      ]
     },
     "execution_count": 10,
     "metadata": {},
     "output_type": "execute_result"
    }
   ],
   "source": [
    "def sumofSquare(num):\n",
    "    if num < 0:\n",
    "        return \"Number should be greater than 0\"\n",
    "    else:\n",
    "        sum = 0\n",
    "        for i in range(1, num):\n",
    "            sum += i ** 2\n",
    "    return sum\n",
    "\n",
    "\n",
    "sumofSquare(5)"
   ]
  },
  {
   "cell_type": "markdown",
   "id": "6d811582",
   "metadata": {},
   "source": [
    "#### Task 5:\n",
    "Give a single command that computes the sum from Exercise R-1.4, relying on Python’s comprehension syntax and the built-in sum function."
   ]
  },
  {
   "cell_type": "code",
   "execution_count": 13,
   "id": "1a2b2017",
   "metadata": {},
   "outputs": [
    {
     "data": {
      "text/plain": [
       "14"
      ]
     },
     "execution_count": 13,
     "metadata": {},
     "output_type": "execute_result"
    }
   ],
   "source": [
    "def sumofSquare(num):\n",
    "    if num < 0:\n",
    "        return \"Number should be greater than 0\"\n",
    "    else:\n",
    "       val =  sum([i ** 2 for i in range(num)])\n",
    "    return val\n",
    "\n",
    "\n",
    "sumofSquare(4)"
   ]
  },
  {
   "cell_type": "markdown",
   "id": "550dbe69",
   "metadata": {},
   "source": [
    "#### Task 6:\n",
    "Write a short Python function that takes a positive integer n and returns\n",
    "the sum of the squares of all the odd positive integers smaller than n."
   ]
  },
  {
   "cell_type": "code",
   "execution_count": null,
   "id": "9847a838",
   "metadata": {},
   "outputs": [],
   "source": []
  }
 ],
 "metadata": {
  "kernelspec": {
   "display_name": "venv",
   "language": "python",
   "name": "python3"
  },
  "language_info": {
   "codemirror_mode": {
    "name": "ipython",
    "version": 3
   },
   "file_extension": ".py",
   "mimetype": "text/x-python",
   "name": "python",
   "nbconvert_exporter": "python",
   "pygments_lexer": "ipython3",
   "version": "3.13.5"
  }
 },
 "nbformat": 4,
 "nbformat_minor": 5
}
